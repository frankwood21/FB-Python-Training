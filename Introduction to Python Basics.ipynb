{
 "cells": [
  {
   "cell_type": "markdown",
   "metadata": {},
   "source": [
    "# Introduction to Python: Basics"
   ]
  },
  {
   "cell_type": "markdown",
   "metadata": {},
   "source": [
    "## Print Statements"
   ]
  },
  {
   "cell_type": "code",
   "execution_count": 5,
   "metadata": {},
   "outputs": [
    {
     "name": "stdout",
     "output_type": "stream",
     "text": [
      "I'm excited to learn Python.\n"
     ]
    }
   ],
   "source": [
    "# Print a simple string\n",
    "print(\"I'm excited to learn Python.\")"
   ]
  },
  {
   "cell_type": "code",
   "execution_count": 15,
   "metadata": {},
   "outputs": [
    {
     "name": "stdout",
     "output_type": "stream",
     "text": [
      "Four plus five equals 9.\n"
     ]
    }
   ],
   "source": [
    "# Add numbers\n",
    "x = 4\n",
    "y = 5\n",
    "\n",
    "z = x + y\n",
    "print(\"Four plus five equals {0}.\".format(z))       # .format() is a string-function used after {}\n",
    "                                                    # 0 mean the 0 position in the list. Next block is a good example"
   ]
  },
  {
   "cell_type": "code",
   "execution_count": 18,
   "metadata": {},
   "outputs": [
    {
     "name": "stdout",
     "output_type": "stream",
     "text": [
      "List A: [1, 2, 3, 4]\n",
      "List B: ['first', 'second', 'third', 'fourth']\n",
      "List C: [1, 2, 3, 4, 'first', 'second', 'third', 'fourth']\n",
      "List D: [(1, 'first'), (2, 'second'), (3, 'third'), (4, 'fourth')]\n"
     ]
    }
   ],
   "source": [
    "# Combine lists\n",
    "A = [1, 2, 3, 4]\n",
    "B = [\"first\", \"second\", \"third\", \"fourth\"]\n",
    "\n",
    "C = A + B                                # A + B means combining A and B together, and put B afer A.\n",
    "D = list(zip(A,B))                       # zip() means zip A and B together one item by one item\n",
    "print(\"List A: {0}\\nList B: {1}\\nList C: {2}\\nList D: {3}\".format(A, B, C, D))      # \\n is Enter: go to the next line\n",
    "                                    # 0, 1, 2, 3 means the position of the format parameters"
   ]
  },
  {
   "cell_type": "markdown",
   "metadata": {},
   "source": [
    "## Numbers"
   ]
  },
  {
   "cell_type": "code",
   "execution_count": 19,
   "metadata": {},
   "outputs": [
    {
     "name": "stdout",
     "output_type": "stream",
     "text": [
      "9^2 = 81\n"
     ]
    }
   ],
   "source": [
    "# Integers\n",
    "x = 9\n",
    "print(\"9^2 = {0}\".format(x**2))"
   ]
  },
  {
   "cell_type": "code",
   "execution_count": 20,
   "metadata": {},
   "outputs": [
    {
     "name": "stdout",
     "output_type": "stream",
     "text": [
      "8.3/2.7 = 3.074\n"
     ]
    }
   ],
   "source": [
    "# Floating-point numbers\n",
    "print(\"8.3/2.7 = {0:.3f}\".format(8.3/2.7))      # colon is followed by format of the output string\n",
    "                                                # .3f means 3 decimals, floating type"
   ]
  },
  {
   "cell_type": "code",
   "execution_count": 24,
   "metadata": {},
   "outputs": [],
   "source": [
    "from math import exp, log, sqrt                 # only import part of math library\n",
    "                                                # in python, . means 'part of'"
   ]
  },
  {
   "cell_type": "code",
   "execution_count": 25,
   "metadata": {},
   "outputs": [
    {
     "name": "stdout",
     "output_type": "stream",
     "text": [
      "e^3 = 20.0855\n",
      "ln(4) = 1.386\n",
      "sqrt(81) = 9.0\n"
     ]
    }
   ],
   "source": [
    "# Some mathematical functions available in the math module\n",
    "print(\"e^3 = {0:.4f}\".format(exp(3)))\n",
    "print(\"ln(4) = {0:.3f}\".format(log(4)))\n",
    "print(\"sqrt(81) = {0:.1f}\".format(sqrt(81)))"
   ]
  },
  {
   "cell_type": "markdown",
   "metadata": {},
   "source": [
    "## Strings"
   ]
  },
  {
   "cell_type": "code",
   "execution_count": 29,
   "metadata": {},
   "outputs": [
    {
     "name": "stdout",
     "output_type": "stream",
     "text": [
      "I'm enjoying learning Python\n"
     ]
    }
   ],
   "source": [
    "# A string inside single quotes, so include a backslash before the inner single quote\n",
    "print('I\\'m enjoying learning Python')"
   ]
  },
  {
   "cell_type": "code",
   "execution_count": 31,
   "metadata": {},
   "outputs": [
    {
     "name": "stdout",
     "output_type": "stream",
     "text": [
      "You can use triple single quotes              # The output of the string will also be shown in 2 lines.\n",
      "for multi-line comment strings\n",
      "You can also use triple double quotes\n",
      "for multi-line comment strings\n"
     ]
    }
   ],
   "source": [
    "# Use triple single or double quotes if you want the string to span multiple lines\n",
    "# and you don't want to use the \"\\\"\n",
    "print('''You can use triple single quotes              \n",
    "for multi-line comment strings''')              # The output of the string will also be shown in 2 lines.\n",
    "\n",
    "print(\"\"\"You can also use triple double quotes\n",
    "for multi-line comment strings\"\"\")"
   ]
  },
  {
   "cell_type": "code",
   "execution_count": 32,
   "metadata": {},
   "outputs": [
    {
     "name": "stdout",
     "output_type": "stream",
     "text": [
      "This is a short string.\n"
     ]
    }
   ],
   "source": [
    "# Combine strings\n",
    "string1 = \"This is a \"\n",
    "string2 = \"short string.\"\n",
    "\n",
    "sentence = string1 + string2\n",
    "print(\"{0:s}\".format(sentence))                 # s means the output will be a string format"
   ]
  },
  {
   "cell_type": "code",
   "execution_count": 34,
   "metadata": {},
   "outputs": [
    {
     "name": "stdout",
     "output_type": "stream",
     "text": [
      "She is very very very very beautiful.\n"
     ]
    }
   ],
   "source": [
    "# Repeat a string\n",
    "print(\"{0:s} {1:s}{2:s}\".format(\"She is\", \"very \"*4, \"beautiful.\"))          # multiply the string can repeat it in output"
   ]
  },
  {
   "cell_type": "code",
   "execution_count": 35,
   "metadata": {},
   "outputs": [
    {
     "name": "stdout",
     "output_type": "stream",
     "text": [
      "The string labeled 'sentence' is 23 characters long.\n"
     ]
    }
   ],
   "source": [
    "# Determine the number of characters in a string, including spaces and punctuation\n",
    "m = len(sentence)              # len() function calculates the length of the string\n",
    "print(\"The string labeled 'sentence' is {0:d} characters long.\".format(m))"
   ]
  },
  {
   "cell_type": "code",
   "execution_count": 38,
   "metadata": {},
   "outputs": [
    {
     "name": "stdout",
     "output_type": "stream",
     "text": [
      "Split string on whitespace: ['My', 'deliverable', 'is', 'due', 'in', 'May']\n",
      "Split only two times: ['My', 'deliverable', 'is due in May']\n"
     ]
    }
   ],
   "source": [
    "# split()\n",
    "my_string = \"My deliverable is due in May\"\n",
    "\n",
    "my_string_seq1 = my_string.split()                  # The default way to split the string is by the each space\n",
    "my_string_seq2 = my_string.split(\" \", 2)            # Split the string by first two spaces\n",
    "\n",
    "print(\"Split string on whitespace: {0}\\nSplit only two times: {1}\".format(my_string_seq1, my_string_seq2))"
   ]
  },
  {
   "cell_type": "code",
   "execution_count": 40,
   "metadata": {},
   "outputs": [
    {
     "name": "stdout",
     "output_type": "stream",
     "text": [
      "Split string on comma: ['Your', 'deliverable', 'is', 'due', 'in', 'June']\n"
     ]
    }
   ],
   "source": [
    "my_string2 = \"Your,deliverable,is,due,in,June\"\n",
    "my_string2_seq = my_string2.split(',')              # Split the string by each comma\n",
    "print(\"Split string on comma: {0}\".format(my_string2_seq))"
   ]
  },
  {
   "cell_type": "code",
   "execution_count": 42,
   "metadata": {},
   "outputs": [
    {
     "name": "stdout",
     "output_type": "stream",
     "text": [
      "Join sequence elements into a string with comma separator: My,deliverable,is,due,in,May\n"
     ]
    }
   ],
   "source": [
    "# join()\n",
    "print(\"Join sequence elements into a string with comma separator: {0}\".format(','.join(my_string_seq1)))\n",
    "# join() function join the list into one string. We can set the connector as comma as well"
   ]
  },
  {
   "cell_type": "code",
   "execution_count": 44,
   "metadata": {},
   "outputs": [
    {
     "name": "stdout",
     "output_type": "stream",
     "text": [
      "string_to_strip:    Remove unwanted characters from this string\t\t    \n",
      "\n",
      "lstrip: Remove unwanted characters from this string\t\t    \n",
      "\n",
      "rstrip:    Remove unwanted characters from this string\n",
      "strip: Remove unwanted characters from this string\n"
     ]
    }
   ],
   "source": [
    "# strip()\n",
    "string_to_strip = \"   Remove unwanted characters from this string\\t\\t    \\n\"\n",
    "print(\"string_to_strip: {0:s}\".format(string_to_strip))\n",
    "\n",
    "string_lstrip = string_to_strip.lstrip()\n",
    "print(\"lstrip: {0:s}\".format(string_lstrip))\n",
    "\n",
    "string_rstrip = string_to_strip.rstrip()\n",
    "print(\"rstrip: {0:s}\".format(string_rstrip))\n",
    "\n",
    "string_strip = string_to_strip.strip()\n",
    "print(\"strip: {0:s}\".format(string_strip))               # .strip() function is used as trim in SQL"
   ]
  },
  {
   "cell_type": "code",
   "execution_count": 45,
   "metadata": {},
   "outputs": [
    {
     "name": "stdout",
     "output_type": "stream",
     "text": [
      "Replace spaces with commas: Let's,replace,the,spaces,in,this,sentence,with,other,characters.\n"
     ]
    }
   ],
   "source": [
    "# replace()\n",
    "string_to_replace = \"Let's replace the spaces in this sentence with other characters.\"\n",
    "\n",
    "string_replace = string_to_replace.replace(\" \", \",\")       # .replace() function replace the first parameter with the second one\n",
    "print(\"Replace spaces with commas: {0:s}\".format(string_replace))"
   ]
  },
  {
   "cell_type": "code",
   "execution_count": 48,
   "metadata": {},
   "outputs": [
    {
     "name": "stdout",
     "output_type": "stream",
     "text": [
      "lowercase all characters: here's what happens when you use lower.\n",
      "uppercase all characters: HERE'S WHAT HAPPENS WHEN YOU USE UPPER.\n",
      "lowercase all characters: Here's what happens when you use lower.\n"
     ]
    }
   ],
   "source": [
    "# lower(), upper(), capitalize()\n",
    "string_to_lower = \"Here's WHAT Happens WHEN You Use lower.\"\n",
    "print(\"lowercase all characters: {0:s}\".format(string_to_lower.lower()))\n",
    "\n",
    "string_to_upper = \"Here's what Happens when You Use UPPER.\"\n",
    "print(\"uppercase all characters: {0:s}\".format(string_to_upper.upper()))\n",
    "\n",
    "string_to_lower = \"here's wHAT happens wHEN you use lower.\"\n",
    "print(\"lowercase all characters: {0:s}\".format(string_to_lower.capitalize()))\n",
    "\n",
    "\n",
    "# .lower() function makes all characters lower case\n",
    "# .upper() function makes all characters upper case\n",
    "# .capitalize() function makes ONLY the first character in the string upper case\n"
   ]
  },
  {
   "cell_type": "markdown",
   "metadata": {},
   "source": [
    "## Regular Expressions / Pattern Matching"
   ]
  },
  {
   "cell_type": "code",
   "execution_count": 51,
   "metadata": {},
   "outputs": [],
   "source": [
    "import re"
   ]
  },
  {
   "cell_type": "code",
   "execution_count": 50,
   "metadata": {},
   "outputs": [
    {
     "name": "stdout",
     "output_type": "stream",
     "text": [
      "The\n",
      "the\n"
     ]
    }
   ],
   "source": [
    "# Print the pattern each time it is found in the string\n",
    "string = \"The quick brown fox jumps over the lazy dog.\"\n",
    "string_seq = string.split()                 # Have to split the string before doing regular expression compile\n",
    "\n",
    "pattern = re.compile(r\"(?P<matches>The)\", re.I)                                            ?????????\n",
    "\n",
    "for word in string_seq:\n",
    "    if pattern.search(word):                # if 'word' meet the pattern criteria, it will return True, otherwise, False\n",
    "        print(\"{:s}\".format(pattern.search(word).group('matches')))"
   ]
  },
  {
   "cell_type": "code",
   "execution_count": 52,
   "metadata": {},
   "outputs": [
    {
     "name": "stdout",
     "output_type": "stream",
     "text": [
      "a quick brown fox jumps over a lazy dog.\n"
     ]
    }
   ],
   "source": [
    "# Substitute the letter \"a\" for the word \"the\" in the string\n",
    "string = \"The quick brown fox jumps over the lazy dog.\"\n",
    "\n",
    "string_to_find = r\"The\"\n",
    "pattern = re.compile(string_to_find, re.I)\n",
    "\n",
    "print(\"{:s}\".format(pattern.sub(\"a\", string)))                              ??????????"
   ]
  },
  {
   "cell_type": "markdown",
   "metadata": {},
   "source": [
    "## Dates"
   ]
  },
  {
   "cell_type": "code",
   "execution_count": 54,
   "metadata": {},
   "outputs": [],
   "source": [
    "from datetime import date, datetime            # Import data and datetime module from datetime library"
   ]
  },
  {
   "cell_type": "code",
   "execution_count": 55,
   "metadata": {},
   "outputs": [
    {
     "name": "stdout",
     "output_type": "stream",
     "text": [
      "today's date: 2019-01-25\n",
      "year: 2019\n",
      "month: 1\n",
      "day: 25\n",
      "today's datetime: 2019-01-25 10:32:46.437413\n"
     ]
    }
   ],
   "source": [
    "# Print today's date, as well as the year, month, and day elements\n",
    "today = date.today()                           # Assign to today the today's date information\n",
    "print(\"today's date: {0!s}\".format(today))\n",
    "print(\"year: {0!s}\".format(today.year))\n",
    "print(\"month: {0!s}\".format(today.month))\n",
    "print(\"day: {0!s}\".format(today.day))\n",
    "\n",
    "current_datetime = datetime.today()\n",
    "print(\"today's datetime: {0!s}\".format(current_datetime))"
   ]
  },
  {
   "cell_type": "code",
   "execution_count": 56,
   "metadata": {},
   "outputs": [
    {
     "name": "stdout",
     "output_type": "stream",
     "text": [
      "01/25/2019\n",
      "Jan 25, 2019\n",
      "2019-01-25\n",
      "January 25, 2019\n"
     ]
    }
   ],
   "source": [
    "# Create four strings representing the same date with different date formats\n",
    "date1 = today.strftime('%m/%d/%Y')\n",
    "date2 = today.strftime('%b %d, %Y')\n",
    "date3 = today.strftime('%Y-%m-%d')\n",
    "date4 = today.strftime('%B %d, %Y')\n",
    "print(date1)\n",
    "print(date2)\n",
    "print(date3)\n",
    "print(date4)"
   ]
  },
  {
   "cell_type": "code",
   "execution_count": 57,
   "metadata": {},
   "outputs": [
    {
     "name": "stdout",
     "output_type": "stream",
     "text": [
      "2019-01-25 00:00:00\n",
      "2019-01-25 00:00:00\n",
      "2019-01-25\n",
      "2019-01-25\n"
     ]
    }
   ],
   "source": [
    "# Create DATETIME objects based on strings that have different date formats\n",
    "print(\"{!s}\".format(datetime.strptime(date1, '%m/%d/%Y')))\n",
    "print(\"{!s}\".format(datetime.strptime(date2, '%b %d, %Y')))\n",
    "\n",
    "# Create DATE objects based on strings that have different date formats\n",
    "print(\"{!s}\".format(datetime.date(datetime.strptime(date3, '%Y-%m-%d'))))\n",
    "print(\"{!s}\".format(datetime.date(datetime.strptime(date4, '%B %d, %Y'))))"
   ]
  },
  {
   "cell_type": "markdown",
   "metadata": {},
   "source": [
    "## Lists (With square brackets: [])"
   ]
  },
  {
   "cell_type": "code",
   "execution_count": 58,
   "metadata": {},
   "outputs": [
    {
     "name": "stdout",
     "output_type": "stream",
     "text": [
      "[1, 2, 3]\n",
      "a_list has 3 elements.\n",
      "the maximum value in a_list is 3.\n",
      "the minimum value in a_list is 1.\n"
     ]
    }
   ],
   "source": [
    "# Use square brackets to create a list\n",
    "# len() counts the number of elements in a list\n",
    "# max() and min() find the maximum and minimum numbers in numeric lists\n",
    "# count() counts the number of times a value appears in a list\n",
    "a_list = [1, 2, 3]\n",
    "\n",
    "print(\"{}\".format(a_list))\n",
    "print(\"a_list has {} elements.\".format(len(a_list)))\n",
    "print(\"the maximum value in a_list is {}.\".format(max(a_list)))\n",
    "print(\"the minimum value in a_list is {}.\".format(min(a_list)))"
   ]
  },
  {
   "cell_type": "code",
   "execution_count": 62,
   "metadata": {},
   "outputs": [
    {
     "name": "stdout",
     "output_type": "stream",
     "text": [
      "['printer', 5, ['star', 'circle', 9], 5, ['sin', 'cos', 'tan'], (3, 5, 7), 'go fish', 5]\n",
      "another_list has 8 elements.\n",
      "5 is in another_list 3 times.\n"
     ]
    }
   ],
   "source": [
    "another_list = ['printer', 5, ['star', 'circle', 9], 5, ['sin', 'cos', 'tan'], (3, 5, 7), 'go fish', 5]\n",
    "\n",
    "print(\"{}\".format(another_list))\n",
    "print(\"another_list has {} elements.\".format(len(another_list)))\n",
    "print(\"5 is in another_list {} times.\".format(another_list.count(5)))         # Count the number 5 in 'another_list'"
   ]
  },
  {
   "cell_type": "code",
   "execution_count": 63,
   "metadata": {},
   "outputs": [
    {
     "name": "stdout",
     "output_type": "stream",
     "text": [
      "1\n",
      "2\n",
      "3\n",
      "3\n",
      "2\n",
      "1\n",
      "['star', 'circle', 9]\n",
      "5\n"
     ]
    }
   ],
   "source": [
    "# Use list indices to access specific values in a list\n",
    "# [0] is the first value; [-1] is the last value\n",
    "print(\"{}\".format(a_list[0]))\n",
    "print(\"{}\".format(a_list[1]))\n",
    "print(\"{}\".format(a_list[2]))\n",
    "print(\"{}\".format(a_list[-1]))          # -1 is the last value\n",
    "print(\"{}\".format(a_list[-2]))          # -2 is the second from the last value\n",
    "print(\"{}\".format(a_list[-3]))          # -3 is the third from the last value\n",
    "print(\"{}\".format(another_list[2]))\n",
    "print(\"{}\".format(another_list[-1]))"
   ]
  },
  {
   "cell_type": "code",
   "execution_count": 61,
   "metadata": {},
   "outputs": [
    {
     "name": "stdout",
     "output_type": "stream",
     "text": [
      "[1, 2]\n",
      "[['sin', 'cos', 'tan'], (3, 5, 7), 'go fish', 5]\n"
     ]
    }
   ],
   "source": [
    "# Use list slices to access a subset of list values\n",
    "# Do not include the starting indice to start from the beginning\n",
    "# Do not include the ending indice to go all of the way to the end\n",
    "print(\"{}\".format(a_list[:2]))\n",
    "print(\"{}\".format(another_list[4:]))"
   ]
  },
  {
   "cell_type": "code",
   "execution_count": 64,
   "metadata": {},
   "outputs": [
    {
     "name": "stdout",
     "output_type": "stream",
     "text": [
      "[1, 2, 3, 4, 5, 6]\n"
     ]
    }
   ],
   "source": [
    "# Use append() to add additional values to the end of the list\n",
    "# Use remove() to remove specific values from the list\n",
    "# Use pop() to remove values from the end of the list\n",
    "a_list.append(4)\n",
    "a_list.append(5)\n",
    "a_list.append(6)\n",
    "print(\"{}\".format(a_list))"
   ]
  },
  {
   "cell_type": "code",
   "execution_count": 66,
   "metadata": {},
   "outputs": [
    {
     "name": "stdout",
     "output_type": "stream",
     "text": [
      "[6, 5, 4, 3, 2, 1]\n"
     ]
    }
   ],
   "source": [
    "# Use reverse() to reverse a list, in-place, meaning it changes the list\n",
    "# To reverse a list without changing the original list, make a copy first\n",
    "a_list_copy = a_list[:]\n",
    "a_list_copy.reverse()          # .revere function not only reverse the list, but also update the original list\n",
    "\n",
    "print(\"{}\".format(a_list_copy))"
   ]
  },
  {
   "cell_type": "code",
   "execution_count": 68,
   "metadata": {},
   "outputs": [
    {
     "name": "stdout",
     "output_type": "stream",
     "text": [
      "unordered: [3, 5, 1, 7, 2, 8, 4, 9, 0, 6]\n",
      "sorted copy: [0, 1, 2, 3, 4, 5, 6, 7, 8, 9]\n"
     ]
    }
   ],
   "source": [
    "# Use sort() to sort a list, in-place, meaning it changes the list\n",
    "# To sort a list without changing the original list, make a copy first\n",
    "unordered_list = [3, 5, 1, 7, 2, 8, 4, 9, 0, 6]\n",
    "print(\"unordered: {}\".format(unordered_list))\n",
    "list_copy = unordered_list[:]\n",
    "list_copy.sort()               # .sort() function not only sort the list, but also update the original list\n",
    "print(\"sorted copy: {}\".format(list_copy))"
   ]
  },
  {
   "cell_type": "markdown",
   "metadata": {},
   "source": [
    "## Tuples (With parentheses: ())"
   ]
  },
  {
   "cell_type": "code",
   "execution_count": 70,
   "metadata": {},
   "outputs": [
    {
     "name": "stdout",
     "output_type": "stream",
     "text": [
      "('x', 'y', 'z')\n",
      "my_tuple has 3 elements\n",
      "y\n"
     ]
    }
   ],
   "source": [
    "# Use parentheses to create a tuple\n",
    "my_tuple = ('x', 'y', 'z')\n",
    "\n",
    "print(\"{}\".format(my_tuple))\n",
    "print(\"my_tuple has {} elements\".format(len(my_tuple)))        # len() function count the total number of elements in the tuple\n",
    "print(\"{}\".format(my_tuple[1]))                                # slice and dice are also applied on tuple"
   ]
  },
  {
   "cell_type": "code",
   "execution_count": 72,
   "metadata": {},
   "outputs": [
    {
     "name": "stdout",
     "output_type": "stream",
     "text": [
      "('x', 'y', 'z', 'x', 'y', 'z')\n"
     ]
    }
   ],
   "source": [
    "# Combine tuples\n",
    "longer_tuple = my_tuple + my_tuple         # You can use 'add' calculation to combine two tuples\n",
    "print(\"{}\".format(longer_tuple))"
   ]
  },
  {
   "cell_type": "code",
   "execution_count": 75,
   "metadata": {},
   "outputs": [
    {
     "name": "stdout",
     "output_type": "stream",
     "text": [
      "x y z\n"
     ]
    }
   ],
   "source": [
    "# Unpack tuples with the left-hand side of an assignment operator\n",
    "one, two, three = my_tuple              # Set the assignment operator on the left of the equation mark to unpack the tuple\n",
    "print(\"{0} {1} {2}\".format(one, two, three))"
   ]
  },
  {
   "cell_type": "code",
   "execution_count": 76,
   "metadata": {},
   "outputs": [
    {
     "name": "stdout",
     "output_type": "stream",
     "text": [
      "original values: red robin\n",
      "swapped values: robin red\n"
     ]
    }
   ],
   "source": [
    "# Swap values between variables\n",
    "var1 = 'red'\n",
    "var2 = 'robin'\n",
    "print(\"original values: {} {}\".format(var1, var2))\n",
    "\n",
    "var1, var2 = var2, var1\n",
    "print(\"swapped values: {} {}\".format(var1, var2))"
   ]
  },
  {
   "cell_type": "code",
   "execution_count": null,
   "metadata": {},
   "outputs": [],
   "source": [
    "# Convert tuples to lists and lists to tuples\n",
    "my_list = [1, 2, 3]\n",
    "my_tuple = ('x', 'y', 'z')\n",
    "\n",
    "print(\"list into tuple: {}\".format(tuple(my_list)))\n",
    "print(\"tuple into list: {}\".format(list(my_tuple)))"
   ]
  },
  {
   "cell_type": "markdown",
   "metadata": {},
   "source": [
    "## Dictionaries"
   ]
  },
  {
   "cell_type": "code",
   "execution_count": null,
   "metadata": {},
   "outputs": [],
   "source": [
    "# Use curly braces to create a dictionary\n",
    "# Use a colon between keys and values in each pair\n",
    "# len() counts the number of key-value pairs in a dictionary\n",
    "empty_dict = {}\n",
    "\n",
    "a_dict = {'one':1, 'two':2, 'three':3}\n",
    "print(\"{}\".format(a_dict))\n",
    "print(\"a_dict has {!s} elements\".format(len(a_dict)))"
   ]
  },
  {
   "cell_type": "code",
   "execution_count": null,
   "metadata": {},
   "outputs": [],
   "source": [
    "another_dict = dict(x='printer', y=5, z=['star', 'circle', 9])\n",
    "print(\"{}\".format(another_dict))\n",
    "print(\"another_dict has {!s} elements\".format(len(another_dict)))"
   ]
  },
  {
   "cell_type": "code",
   "execution_count": null,
   "metadata": {},
   "outputs": [],
   "source": [
    "# Use keys to access specific values in a dictionary\n",
    "print(\"{}\".format(a_dict['two']))\n",
    "print(\"{}\".format(another_dict['z']))"
   ]
  },
  {
   "cell_type": "code",
   "execution_count": null,
   "metadata": {},
   "outputs": [],
   "source": [
    "# Use keys(), values(), and items() to access\n",
    "# a dictionary's keys, values, and key-value pairs, respectively\n",
    "print(\"keys: {}\".format(a_dict.keys()))\n",
    "print(\"values: {}\".format(a_dict.values()))\n",
    "print(\"items: {}\".format(a_dict.items()))"
   ]
  },
  {
   "cell_type": "code",
   "execution_count": null,
   "metadata": {},
   "outputs": [],
   "source": [
    "# Iterate through key-value pairs and print them\n",
    "for key, value in a_dict.items():\n",
    "    print(key, value)"
   ]
  },
  {
   "cell_type": "markdown",
   "metadata": {},
   "source": [
    "## Control Flow"
   ]
  },
  {
   "cell_type": "code",
   "execution_count": null,
   "metadata": {},
   "outputs": [],
   "source": [
    "# if-else statement\n",
    "x = 5\n",
    "if x > 4 and x != 9:\n",
    "    print(\"the value of x is {}.\".format(x))\n",
    "else:\n",
    "    print(\"x is not greater than 4 or equals 9.\")"
   ]
  },
  {
   "cell_type": "code",
   "execution_count": null,
   "metadata": {},
   "outputs": [],
   "source": [
    "# if-elif-else statement\n",
    "y = 7\n",
    "if y > 6:\n",
    "    print(\"y is greater than six.\")\n",
    "elif y > 3:\n",
    "    print(\"y^2 = {}\".format(y*y))\n",
    "else:\n",
    "    print(\"y is not greater than 3.\")"
   ]
  },
  {
   "cell_type": "code",
   "execution_count": null,
   "metadata": {},
   "outputs": [],
   "source": [
    "# while loop\n",
    "x = 0\n",
    "while x < 6:\n",
    "    print(\"{!s}\".format(x))\n",
    "    x += 1"
   ]
  },
  {
   "cell_type": "code",
   "execution_count": null,
   "metadata": {},
   "outputs": [],
   "source": [
    "# for loop\n",
    "months = ['Jan', 'Feb', 'Mar', 'Apr', 'May', 'Jun', 'Jul', 'Aug', 'Sep', 'Oct', 'Nov', 'Dec']\n",
    "\n",
    "for month in months:\n",
    "    print(\"{!s}\".format(month))"
   ]
  },
  {
   "cell_type": "code",
   "execution_count": null,
   "metadata": {},
   "outputs": [],
   "source": [
    "for i, month in enumerate(months):\n",
    "    print(\"{}: {!s}\".format(i, month))"
   ]
  },
  {
   "cell_type": "code",
   "execution_count": null,
   "metadata": {},
   "outputs": [],
   "source": [
    "# compact for loops\n",
    "# list, set, and dictionary comprehensions\n",
    "\n",
    "# select specific rows using a list comprehension\n",
    "my_data = [[1,2,3], [4,5,6], [7,8,9]]\n",
    "\n",
    "rows_to_keep = [row for row in my_data if row[2] > 5]\n",
    "print(\"list comprehension: {}\".format(rows_to_keep))"
   ]
  },
  {
   "cell_type": "code",
   "execution_count": null,
   "metadata": {},
   "outputs": [],
   "source": [
    "# select a set of unique tuples in a list using a set comprehension\n",
    "my_data = [(1,2,3), (4,5,6), (7,8,9), (7,8,9)]\n",
    "\n",
    "set_of_tuples = {x for x in my_data}\n",
    "print(\"set comprehension: {}\".format(set_of_tuples))"
   ]
  },
  {
   "cell_type": "code",
   "execution_count": null,
   "metadata": {},
   "outputs": [],
   "source": [
    "# select specific key-value pairs using a dictionary comprehension\n",
    "my_dictionary = {'customer1': 7, 'customer2': 9, 'customer3': 11}\n",
    "\n",
    "my_results = {key: value for key, value in my_dictionary.items() if value > 10}\n",
    "print(\"dictionary comprehension: {}\".format(my_results))"
   ]
  },
  {
   "cell_type": "markdown",
   "metadata": {},
   "source": [
    "## Functions"
   ]
  },
  {
   "cell_type": "code",
   "execution_count": null,
   "metadata": {},
   "outputs": [],
   "source": [
    "def print_birthplace(country = \"USA\"):\n",
    "  print(\"I am from \" + country)\n",
    "\n",
    "\n",
    "print_birthplace()\n",
    "print_birthplace(\"Japan\")"
   ]
  },
  {
   "cell_type": "code",
   "execution_count": null,
   "metadata": {},
   "outputs": [],
   "source": [
    "# calculate the mean of a sequence of numeric values\n",
    "def calc_mean(numeric_values):\n",
    "    return sum(numeric_values) / len(numeric_values) if len(numeric_values) > 0 else float('nan')\n",
    "\n",
    "\n",
    "my_list = [2, 2, 4, 4, 6, 6, 8, 8]\n",
    "print(\"mean: {!s}\".format(calc_mean(my_list)))"
   ]
  },
  {
   "cell_type": "markdown",
   "metadata": {},
   "source": [
    "## Exceptions"
   ]
  },
  {
   "cell_type": "code",
   "execution_count": null,
   "metadata": {},
   "outputs": [],
   "source": [
    "empty_list = []\n",
    "\n",
    "def calcMean(numericValues):\n",
    "    return sum(numericValues)/len(numericValues)\n",
    "\n",
    "# Short version\n",
    "try:\n",
    "    print(\"{}\".format(calcMean(empty_list)))\n",
    "except ZeroDivisionError as detail:\n",
    "    print(\"Error: {}\".format(detail))"
   ]
  },
  {
   "cell_type": "code",
   "execution_count": null,
   "metadata": {},
   "outputs": [],
   "source": [
    "# Long version\n",
    "try:\n",
    "    result = calcMean(empty_list)\n",
    "except ZeroDivisionError as detail:\n",
    "    print(\"Error: {}\".format(detail))\n",
    "else:\n",
    "    print(\"The mean is: {}\".format(result))\n",
    "finally:\n",
    "    print(\"Finally: The finally block is executed every time\")"
   ]
  },
  {
   "cell_type": "markdown",
   "metadata": {},
   "source": [
    "## Reading CSV File"
   ]
  },
  {
   "cell_type": "code",
   "execution_count": null,
   "metadata": {},
   "outputs": [],
   "source": [
    "import csv"
   ]
  },
  {
   "cell_type": "code",
   "execution_count": null,
   "metadata": {},
   "outputs": [],
   "source": [
    "CSV_IN_FILE = '../inFiles/randomuser5000.csv'"
   ]
  },
  {
   "cell_type": "code",
   "execution_count": null,
   "metadata": {},
   "outputs": [],
   "source": [
    "with open(CSV_IN_FILE, 'r', newline='') as f:\n",
    "    reader = csv.reader(f)\n",
    "    header_row = True\n",
    "    for row in reader:\n",
    "        if header_row is True:\n",
    "            print(row)\n",
    "            header_row = False"
   ]
  },
  {
   "cell_type": "code",
   "execution_count": null,
   "metadata": {},
   "outputs": [],
   "source": [
    "FLIGHTS_FILE = '../inFiles/flights.csv'"
   ]
  },
  {
   "cell_type": "code",
   "execution_count": null,
   "metadata": {},
   "outputs": [],
   "source": [
    "nrows = 0\n",
    "ncols = 0\n",
    "\n",
    "with open(FLIGHTS_FILE, 'r', newline='') as f:\n",
    "    reader = csv.reader(f)\n",
    "    header = True\n",
    "    for row in reader:\n",
    "        nrows += 1\n",
    "        if header is True:\n",
    "            ncols = len(row)\n",
    "            header = False\n",
    "\n",
    "print('Rows: {}  Columns: {}'.format(nrows, ncols))"
   ]
  },
  {
   "cell_type": "markdown",
   "metadata": {},
   "source": [
    "## Writing CSV File"
   ]
  },
  {
   "cell_type": "code",
   "execution_count": null,
   "metadata": {},
   "outputs": [],
   "source": [
    "import csv"
   ]
  },
  {
   "cell_type": "code",
   "execution_count": null,
   "metadata": {},
   "outputs": [],
   "source": [
    "CSV_IN_FILE = '../inFiles/randomuser5000.csv'"
   ]
  },
  {
   "cell_type": "code",
   "execution_count": null,
   "metadata": {},
   "outputs": [],
   "source": [
    "CSV_OUT_FILE = '../outFiles/randomuser5000_females.csv'"
   ]
  },
  {
   "cell_type": "code",
   "execution_count": null,
   "metadata": {},
   "outputs": [],
   "source": [
    "with open(CSV_IN_FILE, 'r', newline='') as in_file:\n",
    "    with open(CSV_OUT_FILE, 'w', newline='') as out_file:\n",
    "        reader = csv.reader(in_file)\n",
    "        writer = csv.writer(out_file)\n",
    "        header = True\n",
    "        for row in reader:\n",
    "            if header is True:\n",
    "                writer.writerow(row)\n",
    "                header = False\n",
    "            else:\n",
    "                gender = row[0].lower()\n",
    "                if gender == 'female':\n",
    "                    writer.writerow(row)\n",
    "\n",
    "print('Finished writing file.')"
   ]
  },
  {
   "cell_type": "markdown",
   "metadata": {},
   "source": [
    "## Reading JSON File"
   ]
  },
  {
   "cell_type": "code",
   "execution_count": null,
   "metadata": {},
   "outputs": [],
   "source": [
    "import json"
   ]
  },
  {
   "cell_type": "code",
   "execution_count": null,
   "metadata": {},
   "outputs": [],
   "source": [
    "JSON_IN_FILE = '../inFiles/randomuser5000.json'"
   ]
  },
  {
   "cell_type": "code",
   "execution_count": null,
   "metadata": {},
   "outputs": [],
   "source": [
    "with open(JSON_IN_FILE, 'r', newline='') as in_file:  \n",
    "    data = json.load(in_file)\n",
    "    records = data['results']\n",
    "    for record in records[:10]: # only print the first ten records\n",
    "        for key, value in record.items():\n",
    "            print('{}: {}'.format(key, value))\n",
    "        print()"
   ]
  },
  {
   "cell_type": "markdown",
   "metadata": {},
   "source": [
    "## Writing JSON File"
   ]
  },
  {
   "cell_type": "code",
   "execution_count": null,
   "metadata": {},
   "outputs": [],
   "source": [
    "import json"
   ]
  },
  {
   "cell_type": "code",
   "execution_count": null,
   "metadata": {},
   "outputs": [],
   "source": [
    "JSON_IN_FILE = '../inFiles/randomuser5000.json'"
   ]
  },
  {
   "cell_type": "code",
   "execution_count": null,
   "metadata": {},
   "outputs": [],
   "source": [
    "JSON_OUT_FILE = '../outFiles/randomuser5000_females.json'"
   ]
  },
  {
   "cell_type": "code",
   "execution_count": null,
   "metadata": {},
   "outputs": [],
   "source": [
    "with open(JSON_IN_FILE, 'r', newline='') as in_file:\n",
    "    with open(JSON_OUT_FILE, 'w', newline='') as out_file:\n",
    "        output_data = {}\n",
    "        output_data['records'] = []\n",
    "        \n",
    "        input_data = json.load(in_file)\n",
    "        records = input_data['results']\n",
    "        for record in records:\n",
    "            gender = record['gender']\n",
    "            if gender == 'female':\n",
    "                output_data['records'].append(record)\n",
    "\n",
    "        if output_data:\n",
    "            json.dump(output_data, out_file)\n",
    "\n",
    "print('Finished writing file.')"
   ]
  },
  {
   "cell_type": "markdown",
   "metadata": {},
   "source": [
    "## Reading Excel File"
   ]
  },
  {
   "cell_type": "code",
   "execution_count": null,
   "metadata": {},
   "outputs": [],
   "source": [
    "from datetime import date\n",
    "from xlrd import open_workbook, xldate_as_tuple"
   ]
  },
  {
   "cell_type": "code",
   "execution_count": null,
   "metadata": {},
   "outputs": [],
   "source": [
    "EXCEL_IN_FILE = '../inFiles/randomuser5000.xlsx'"
   ]
  },
  {
   "cell_type": "code",
   "execution_count": null,
   "metadata": {},
   "outputs": [],
   "source": [
    "# Introspect an Excel workbook: i.e. Print info about each of the worksheets in the workbook\n",
    "workbook = open_workbook(EXCEL_IN_FILE)\n",
    "print('Number of worksheets:', workbook.nsheets)\n",
    "for worksheet in workbook.sheets():\n",
    "    print(\"Worksheet name:\", worksheet.name, \"\\tRows:\", worksheet.nrows, \"\\tColumns:\", worksheet.ncols)"
   ]
  },
  {
   "cell_type": "code",
   "execution_count": null,
   "metadata": {},
   "outputs": [],
   "source": [
    "# Print all of the rows, converting dates to MM/DD/YYYY format\n",
    "with open_workbook(EXCEL_IN_FILE) as workbook:\n",
    "    worksheet = workbook.sheet_by_name('randomuser5000_all')\n",
    "    for row_index in range(worksheet.nrows):\n",
    "        output_row = []\n",
    "        for col_index in range(worksheet.ncols):\n",
    "            if worksheet.cell_type(row_index, col_index) == 3:\n",
    "                date_cell = xldate_as_tuple(worksheet.cell_value(row_index, col_index), workbook.datemode)\n",
    "                date_cell = date(*date_cell[0:3]).strftime('%m/%d/%Y')\n",
    "                output_row.append(date_cell)\n",
    "            else:\n",
    "                non_date_cell = worksheet.cell_value(row_index, col_index)\n",
    "                output_row.append(non_date_cell)\n",
    "        print(output_row)"
   ]
  },
  {
   "cell_type": "markdown",
   "metadata": {},
   "source": [
    "## Writing Excel File"
   ]
  },
  {
   "cell_type": "code",
   "execution_count": null,
   "metadata": {},
   "outputs": [],
   "source": [
    "from datetime import date\n",
    "from xlrd import open_workbook, xldate_as_tuple\n",
    "from xlwt import Workbook"
   ]
  },
  {
   "cell_type": "code",
   "execution_count": null,
   "metadata": {},
   "outputs": [],
   "source": [
    "EXCEL_IN_FILE = '../inFiles/randomuser5000.xlsx'"
   ]
  },
  {
   "cell_type": "code",
   "execution_count": null,
   "metadata": {},
   "outputs": [],
   "source": [
    "EXCEL_OUT_FILE = '../outFiles/randomuser5000_females.xls'"
   ]
  },
  {
   "cell_type": "code",
   "execution_count": null,
   "metadata": {},
   "outputs": [],
   "source": [
    "output_workbook = Workbook()\n",
    "output_worksheet = output_workbook.add_sheet('females')\n",
    "\n",
    "gender_column_index = 0\n",
    "\n",
    "with open_workbook(EXCEL_IN_FILE) as workbook:\n",
    "    worksheet = workbook.sheet_by_name('randomuser5000_all')\n",
    "    output_data = []\n",
    "    header = worksheet.row_values(0)\n",
    "    output_data.append(header)\n",
    "    for row_index in range(1, worksheet.nrows):\n",
    "        output_row = []\n",
    "        gender = worksheet.cell_value(row_index, gender_column_index)\n",
    "        if gender == 'female':\n",
    "            for column_index in range(worksheet.ncols):\n",
    "                cell_value = worksheet.cell_value(row_index, column_index)\n",
    "                cell_type = worksheet.cell_type(row_index, column_index)\n",
    "                if cell_type == 3:\n",
    "                    date_cell = xldate_as_tuple(cell_value, workbook.datemode)\n",
    "                    date_cell = date(*date_cell[0:3]).strftime('%m/%d/%Y')\n",
    "                    output_row.append(date_cell)\n",
    "                else:\n",
    "                    output_row.append(cell_value)\n",
    "                    \n",
    "        if output_row:\n",
    "            output_data.append(output_row)\n",
    "\n",
    "    for list_index, output_list in enumerate(output_data):\n",
    "        for element_index, element in enumerate(output_list):\n",
    "            output_worksheet.write(list_index, element_index, element)\n",
    "\n",
    "output_workbook.save(EXCEL_OUT_FILE)\n",
    "\n",
    "print('Finished writing file.')"
   ]
  },
  {
   "cell_type": "code",
   "execution_count": null,
   "metadata": {},
   "outputs": [],
   "source": []
  }
 ],
 "metadata": {
  "kernelspec": {
   "display_name": "Python 3",
   "language": "python",
   "name": "python3"
  },
  "language_info": {
   "codemirror_mode": {
    "name": "ipython",
    "version": 3
   },
   "file_extension": ".py",
   "mimetype": "text/x-python",
   "name": "python",
   "nbconvert_exporter": "python",
   "pygments_lexer": "ipython3",
   "version": "3.7.0"
  }
 },
 "nbformat": 4,
 "nbformat_minor": 2
}
